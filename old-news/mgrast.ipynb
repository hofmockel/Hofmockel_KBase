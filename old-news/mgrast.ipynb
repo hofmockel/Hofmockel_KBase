{
 "metadata": {
  "created": "2013-01-04T21:58:07.300851",
  "name": "template_copy",
  "type": "ipynb",
  "user": "public",
  "uuid": "c5e1a956-a173-446b-9009-e3ace1d8af99"
 },
 "nbformat": 3,
 "nbformat_minor": 0,
 "worksheets": [
  {
   "cells": [
    {
     "cell_type": "code",
     "collapsed": false,
     "input": "api = 'http://api.metagenomics.anl.gov/api2.cgi'\n\n\n",
     "language": "python",
     "metadata": {},
     "outputs": [],
     "prompt_number": 39
    },
    {
     "cell_type": "code",
     "collapsed": false,
     "input": "metagenome_id = 'mgm4440026.3'",
     "language": "python",
     "metadata": {},
     "outputs": [],
     "prompt_number": 40
    },
    {
     "cell_type": "code",
     "collapsed": false,
     "input": "key = '?auth=bpJiS5MHdzKdhbU9K3pf4C753'",
     "language": "python",
     "metadata": {},
     "outputs": [],
     "prompt_number": 41
    },
    {
     "cell_type": "code",
     "collapsed": false,
     "input": "stats_json = ! wget -q -O - '$api/metagenome_statistics/$metagenome_id?verbosity=verbose$key'",
     "language": "python",
     "metadata": {},
     "outputs": [],
     "prompt_number": 42
    },
    {
     "cell_type": "code",
     "collapsed": false,
     "input": "stats_data = json.loads( stats_json[0] )",
     "language": "python",
     "metadata": {},
     "outputs": [],
     "prompt_number": 47
    },
    {
     "cell_type": "code",
     "collapsed": false,
     "input": "ncbi_data_json = ! wget -q -O - '$api/m5nr/taxonomy?min_level=phylum'",
     "language": "python",
     "metadata": {},
     "outputs": [],
     "prompt_number": 44
    },
    {
     "cell_type": "code",
     "collapsed": false,
     "input": "ncbi_data = json.loads( ncbi_data_json[0] )",
     "language": "python",
     "metadata": {},
     "outputs": [],
     "prompt_number": 45
    },
    {
     "cell_type": "code",
     "collapsed": false,
     "input": "ncbi_data",
     "language": "python",
     "metadata": {},
     "outputs": [
      {
       "output_type": "pyout",
       "prompt_number": 46,
       "text": "[[u'Bacteria', u'Chrysiogenetes'],\n [u'Eukaryota', u'Glomeromycota'],\n [u'Eukaryota', u'Annelida'],\n [u'Eukaryota', u'Cycliophora'],\n [u'Eukaryota', u'Porifera'],\n [u'Bacteria', u'Cyanobacteria'],\n [u'Eukaryota', u'Streptophyta'],\n [u'Eukaryota', u'Chlorophyta'],\n [u'Eukaryota', u'Onychophora'],\n [u'Bacteria', u'Fusobacteria'],\n [u'Eukaryota', u'Blastocladiomycota'],\n [u'Archaea', u'Crenarchaeota'],\n [u'Archaea', u'Korarchaeota'],\n [u'Bacteria', u'Deferribacteres'],\n [u'Eukaryota', u'Priapulida'],\n [u'Bacteria', u'Fibrobacteres'],\n [u'Bacteria', u'Proteobacteria'],\n [u'Bacteria', u'Lentisphaerae'],\n [u'Eukaryota', u'Bryozoa'],\n [u'Bacteria', u'Spirochaetes'],\n [u'Eukaryota', u'Rhombozoa'],\n [u'Bacteria', u'Thermodesulfobacteria'],\n [u'Eukaryota', u'Euglenida'],\n [u'Eukaryota', u'Pinguiophyceae'],\n [u'Eukaryota', u'Hemichordata'],\n [u'Eukaryota', u'Entoprocta'],\n [u'Bacteria', u'Chlamydiae'],\n [u'Eukaryota', u'Nematoda'],\n [u'Bacteria', u'Tenericutes'],\n [u'Eukaryota', u'Phaeophyceae'],\n [u'Eukaryota', u'Chordata'],\n [u'unclassified sequences',\n  u'unclassified (derived from unclassified sequences)'],\n [u'Eukaryota', u'Neocallimastigomycota'],\n [u'Eukaryota', u'Loricifera'],\n [u'Eukaryota', u'Myzostomida'],\n [u'Eukaryota', u'Gastrotricha'],\n [u'Eukaryota', u'Eustigmatophyceae'],\n [u'Eukaryota', u'Tardigrada'],\n [u'Bacteria', u'Aquificae'],\n [u'Bacteria', u'Poribacteria'],\n [u'Bacteria', u'Actinobacteria'],\n [u'Archaea', u'Thaumarchaeota'],\n [u'Eukaryota', u'Sipuncula'],\n [u'Eukaryota', u'Placozoa'],\n [u'Viroids', u'unclassified (derived from Viroids)'],\n [u'Eukaryota', u'Nematomorpha'],\n [u'Eukaryota', u'Cryptomycota'],\n [u'Eukaryota', u'Gnathostomulida'],\n [u'Eukaryota', u'unclassified (derived from Fungi)'],\n [u'Eukaryota', u'Cnidaria'],\n [u'Eukaryota', u'Arthropoda'],\n [u'Eukaryota', u'Echinodermata'],\n [u'Bacteria', u'Gemmatimonadetes'],\n [u'Eukaryota', u'Bolidophyceae'],\n [u'Eukaryota', u'Bacillariophyta'],\n [u'Eukaryota', u'Brachiopoda'],\n [u'Eukaryota', u'Aurearenophyceae'],\n [u'Eukaryota', u'Kinorhyncha'],\n [u'Bacteria', u'unclassified (derived from Bacteria)'],\n [u'Eukaryota', u'Haplosporidia'],\n [u'Bacteria', u'Synergistetes'],\n [u'Eukaryota', u'Ctenophora'],\n [u'Eukaryota', u'Xanthophyceae'],\n [u'Eukaryota', u'Xenoturbellida'],\n [u'Eukaryota', u'unclassified (derived from Metazoa)'],\n [u'Bacteria', u'Deinococcus-Thermus'],\n [u'Eukaryota', u'Basidiomycota'],\n [u'Eukaryota', u'Platyhelminthes'],\n [u'Bacteria', u'Verrucomicrobia'],\n [u'Eukaryota', u'Microsporidia'],\n [u'Bacteria', u'Dictyoglomi'],\n [u'Eukaryota', u'Chromerida'],\n [u'Bacteria', u'Bacteroidetes'],\n [u'Eukaryota', u'unclassified (derived from Eukaryota)'],\n [u'Eukaryota', u'Ascomycota'],\n [u'Eukaryota', u'Rotifera'],\n [u'Bacteria', u'Thermotogae'],\n [u'Bacteria', u'Acidobacteria'],\n [u'Bacteria', u'Elusimicrobia'],\n [u'Archaea', u'Euryarchaeota'],\n [u'Archaea', u'unclassified (derived from Archaea)'],\n [u'Bacteria', u'Nitrospirae'],\n [u'Eukaryota', u'Acanthocephala'],\n [u'Eukaryota', u'Chytridiomycota'],\n [u'other sequences', u'unclassified (derived from other sequences)'],\n [u'Archaea', u'Nanoarchaeota'],\n [u'Viruses', u'unclassified (derived from Viruses)'],\n [u'Bacteria', u'Planctomycetes'],\n [u'Eukaryota', u'Mollusca'],\n [u'Eukaryota', u'Apicomplexa'],\n [u'Eukaryota', u'Chaetognatha'],\n [u'Bacteria', u'Chloroflexi'],\n [u'Bacteria', u'Firmicutes'],\n [u'Eukaryota', u'Echiura'],\n [u'Eukaryota', u'Nemertea'],\n [u'Bacteria', u'Chlorobi']]"
      }
     ],
     "prompt_number": 46
    },
    {
     "cell_type": "code",
     "collapsed": false,
     "input": "phylum_domain_mapping = {}\nfor k in ncbi_data:\n    phylum_domain_mapping[k[1]] = k[0]\n",
     "language": "python",
     "metadata": {},
     "outputs": [],
     "prompt_number": 48
    },
    {
     "cell_type": "code",
     "collapsed": false,
     "input": "data = stats_data['taxonomy']['domain']\ntitle = 'domain distribution'",
     "language": "python",
     "metadata": {},
     "outputs": [],
     "prompt_number": 51
    },
    {
     "cell_type": "code",
     "collapsed": false,
     "input": "stats_data['taxonomy']['domain']",
     "language": "python",
     "metadata": {},
     "outputs": [
      {
       "output_type": "pyout",
       "prompt_number": 55,
       "text": "[[u'Archaea', u'1'],\n [u'Bacteria', u'1102'],\n [u'Eukaryota', u'1139'],\n [u'Viruses', u'11'],\n [u'Other', u'50']]"
      }
     ],
     "prompt_number": 55
    },
    {
     "cell_type": "code",
     "collapsed": false,
     "input": "graph_data = []\nfor item in data:\n    graph_data.append({'name': item[0], 'data': [int(item[1])]})\n",
     "language": "python",
     "metadata": {},
     "outputs": [],
     "prompt_number": 56
    },
    {
     "cell_type": "code",
     "collapsed": false,
     "input": "type = 'pie'",
     "language": "python",
     "metadata": {},
     "outputs": [],
     "prompt_number": 57
    },
    {
     "cell_type": "code",
     "collapsed": false,
     "input": "retinalib = retina.Retina()\nxlabels = [ ' ' ]\n",
     "language": "python",
     "metadata": {},
     "outputs": [
      {
       "javascript": "$(\"head\").append($(\"<link/>\").attr({\n  rel:  \"stylesheet\",\n  type: \"text/css\",\n  href: \"http://raw.github.com/MG-RAST/Retina/master/css/bootstrap.min.css\"\n}));\n$.getScript(\"http://raw.github.com/MG-RAST/Retina/master/js/bootstrap.min.js\", function () {\n$.getScript(\"http://raw.github.com/MG-RAST/Retina/master/js/retina.js\", function () {\n$.getScript(\"http://raw.github.com/MG-RAST/Retina/master/js/stm.js\", function () {\n$.getScript(\"http://raw.github.com/MG-RAST/Retina/master/js/ipy.js\", function () {\n\n\t\t\t(function(){\n\t\t\t\tRetina.init( { library_resource: \"http://raw.github.com/MG-RAST/Retina/master/js/\" });\n\t\t\t})();\n\t\t});\n});\n});\n});\n",
       "output_type": "display_data",
       "text": "<IPython.core.display.Javascript at 0x7f7fe50>"
      }
     ],
     "prompt_number": 58
    },
    {
     "cell_type": "code",
     "collapsed": false,
     "input": "retinalib.graph(btype=type, data=graph_data, title=title, x_labels=xlabels, show_legend=True, onclick='domain')",
     "language": "python",
     "metadata": {},
     "outputs": [
      {
       "html": "<div id='target'></div>",
       "output_type": "display_data",
       "text": "<IPython.core.display.HTML at 0x7f7f7d0>"
      },
      {
       "javascript": "\n\t\t\t(function(){\n\t\t\t\tRetina.add_renderer({\"name\": \"graph\", \"resource\": 'http://raw.github.com/MG-RAST/Retina/master/renderers/', \"filename\": \"renderer.graph.js\" });\n\t\t\t\tRetina.load_renderer(\"graph\").then( function () { Retina.Renderer.create('graph', {width: 800, height: 400, type: 'pie', target: document.getElementById('target'), data: [{\"data\": [1], \"name\": \"Archaea\"}, {\"data\": [1102], \"name\": \"Bacteria\"}, {\"data\": [1139], \"name\": \"Eukaryota\"}, {\"data\": [11], \"name\": \"Viruses\"}, {\"data\": [50], \"name\": \"Other\"}], title: 'domain distribution', x_labels: [' '], x_title: '', y_title: '', show_legend: true, legend_position: 'left', title_color: 'black', x_title_color: 'black', y_title_color: 'black', x_labels_rotation: '0', x_tick_interval: 0, y_tick_interval: 30, x_labeled_tick_interval: 1, y_labeled_tick_interval: 5, default_line_color: 'black', default_line_width: 1, onclick: function(params){ipy.write_cell(ipy.add_cell(), 'domain = '+ JSON.stringify(params));}}).render(); });\n                        })();\n\t\t",
       "output_type": "display_data",
       "text": "<IPython.core.display.Javascript at 0x7f7f7d0>"
      }
     ],
     "prompt_number": 59
    },
    {
     "cell_type": "code",
     "collapsed": false,
     "input": "domain = {\"series\":\"Eukaryota\",\"value\":49.46,\"label\":\" \",\"item\":{\"jQuery17107428131659847799\":408},\"index\":0,\"series_index\":2}",
     "language": "python",
     "metadata": {},
     "outputs": []
    },
    {
     "cell_type": "code",
     "collapsed": false,
     "input": "domain = {\"series\":\"Viruses\",\"value\":0.48,\"label\":\" \",\"item\":{\"jQuery17107428131659847799\":400},\"index\":0,\"series_index\":3}",
     "language": "python",
     "metadata": {},
     "outputs": []
    },
    {
     "cell_type": "code",
     "collapsed": false,
     "input": "domain = {\"series\":\"Other\",\"value\":2.17,\"label\":\" \",\"item\":{\"jQuery17107428131659847799\":392},\"index\":0,\"series_index\":4}",
     "language": "python",
     "metadata": {},
     "outputs": []
    },
    {
     "cell_type": "code",
     "collapsed": false,
     "input": "domain = {\"series\":\"Bacteria\",\"value\":47.85,\"label\":\" \",\"item\":{\"jQuery17107428131659847799\":379},\"index\":0,\"series_index\":1}",
     "language": "python",
     "metadata": {},
     "outputs": []
    },
    {
     "cell_type": "code",
     "collapsed": false,
     "input": "",
     "language": "python",
     "metadata": {},
     "outputs": [],
     "prompt_number": "*"
    },
    {
     "cell_type": "code",
     "collapsed": false,
     "input": "domain = {'series':'Archaea'}",
     "language": "python",
     "metadata": {},
     "outputs": [],
     "prompt_number": 60
    },
    {
     "cell_type": "code",
     "collapsed": false,
     "input": "domain",
     "language": "python",
     "metadata": {},
     "outputs": [
      {
       "output_type": "pyout",
       "prompt_number": 61,
       "text": "{'series': 'Archaea'}"
      }
     ],
     "prompt_number": 61
    },
    {
     "cell_type": "code",
     "collapsed": false,
     "input": "sub_data = stats_data['taxonomy']['phylum']",
     "language": "python",
     "metadata": {},
     "outputs": [],
     "prompt_number": 62
    },
    {
     "cell_type": "code",
     "collapsed": false,
     "input": "subtitle = 'phylum distribution for all ' + domain['series']",
     "language": "python",
     "metadata": {},
     "outputs": [],
     "prompt_number": 64
    },
    {
     "cell_type": "code",
     "collapsed": false,
     "input": "sub_data, phylum_domain_mapping.keys()",
     "language": "python",
     "metadata": {},
     "outputs": [
      {
       "output_type": "pyout",
       "prompt_number": 67,
       "text": "([[u'Actinobacteria', u'15'],\n  [u'Apicomplexa', u'14'],\n  [u'Arthropoda', u'22'],\n  [u'Ascomycota', u'4'],\n  [u'Bacteroidetes', u'526'],\n  [u'Basidiomycota', u'2'],\n  [u'Chordata', u'1082'],\n  [u'Cnidaria', u'1'],\n  [u'Cyanobacteria', u'7'],\n  [u'Euryarchaeota', u'1'],\n  [u'Fibrobacteres', u'11'],\n  [u'Firmicutes', u'395'],\n  [u'Fusobacteria', u'5'],\n  [u'Nematoda', u'2'],\n  [u'Proteobacteria', u'100'],\n  [u'Streptophyta', u'9'],\n  [u'Tenericutes', u'5'],\n  [u'unclassified (derived from Bacteria)', u'45'],\n  [u'unclassified (derived from Eukaryota)', u'3'],\n  [u'unclassified (derived from Viruses)', u'11'],\n  [u'unclassified (derived from other sequences)', u'47'],\n  [u'unclassified (derived from unclassified sequences)', u'3']],\n [u'unclassified (derived from unclassified sequences)',\n  u'Entoprocta',\n  u'Echiura',\n  u'Poribacteria',\n  u'Glomeromycota',\n  u'Porifera',\n  u'Bryozoa',\n  u'Acanthocephala',\n  u'Dictyoglomi',\n  u'Phaeophyceae',\n  u'Gastrotricha',\n  u'Thaumarchaeota',\n  u'Deinococcus-Thermus',\n  u'Gemmatimonadetes',\n  u'unclassified (derived from Fungi)',\n  u'Firmicutes',\n  u'Fusobacteria',\n  u'Platyhelminthes',\n  u'Crenarchaeota',\n  u'Placozoa',\n  u'Korarchaeota',\n  u'Blastocladiomycota',\n  u'Cyanobacteria',\n  u'Cycliophora',\n  u'Chlorophyta',\n  u'Cnidaria',\n  u'Deferribacteres',\n  u'unclassified (derived from Viruses)',\n  u'Onychophora',\n  u'Chrysiogenetes',\n  u'Apicomplexa',\n  u'Hemichordata',\n  u'Streptophyta',\n  u'Acidobacteria',\n  u'Spirochaetes',\n  u'Pinguiophyceae',\n  u'Eustigmatophyceae',\n  u'Nitrospirae',\n  u'Nemertea',\n  u'Euglenida',\n  u'Basidiomycota',\n  u'Xanthophyceae',\n  u'Aurearenophyceae',\n  u'Arthropoda',\n  u'Nematoda',\n  u'Chlamydiae',\n  u'Tenericutes',\n  u'unclassified (derived from other sequences)',\n  u'Xenoturbellida',\n  u'Fibrobacteres',\n  u'Euryarchaeota',\n  u'Verrucomicrobia',\n  u'Chaetognatha',\n  u'Chlorobi',\n  u'Brachiopoda',\n  u'Neocallimastigomycota',\n  u'Echinodermata',\n  u'Lentisphaerae',\n  u'Bolidophyceae',\n  u'Chytridiomycota',\n  u'Elusimicrobia',\n  u'Rhombozoa',\n  u'Proteobacteria',\n  u'Mollusca',\n  u'Thermodesulfobacteria',\n  u'Ctenophora',\n  u'Annelida',\n  u'Kinorhyncha',\n  u'Gnathostomulida',\n  u'Nematomorpha',\n  u'Bacteroidetes',\n  u'Aquificae',\n  u'Priapulida',\n  u'Ascomycota',\n  u'Actinobacteria',\n  u'Bacillariophyta',\n  u'unclassified (derived from Viroids)',\n  u'unclassified (derived from Archaea)',\n  u'Cryptomycota',\n  u'Rotifera',\n  u'unclassified (derived from Metazoa)',\n  u'Chromerida',\n  u'Chloroflexi',\n  u'Planctomycetes',\n  u'Chordata',\n  u'unclassified (derived from Eukaryota)',\n  u'Myzostomida',\n  u'Synergistetes',\n  u'Haplosporidia',\n  u'unclassified (derived from Bacteria)',\n  u'Sipuncula',\n  u'Microsporidia',\n  u'Tardigrada',\n  u'Nanoarchaeota',\n  u'Thermotogae',\n  u'Loricifera'])"
      }
     ],
     "prompt_number": 67
    },
    {
     "cell_type": "code",
     "collapsed": false,
     "input": "sub_graph_data = []\nfor item in sub_data:\n    if item[0] in phylum_domain_mapping:\n        if (phylum_domain_mapping[item[0]] == domain['series']):\n            sub_graph_data.append({'name': item[0], 'data': [int(item[1])]})",
     "language": "python",
     "metadata": {},
     "outputs": [],
     "prompt_number": 68
    },
    {
     "cell_type": "code",
     "collapsed": false,
     "input": "retinalib.graph(target='2', btype='column', data=sub_graph_data, title=subtitle, x_labels=xlabels, show_legend=True, x_title='')",
     "language": "python",
     "metadata": {},
     "outputs": [],
     "prompt_number": "*"
    },
    {
     "cell_type": "code",
     "collapsed": false,
     "input": "",
     "language": "python",
     "metadata": {},
     "outputs": []
    },
    {
     "cell_type": "code",
     "collapsed": false,
     "input": "",
     "language": "python",
     "metadata": {},
     "outputs": [],
     "prompt_number": "*"
    }
   ],
   "metadata": {}
  }
 ]
}